{
 "cells": [
  {
   "cell_type": "markdown",
   "metadata": {},
   "source": [
    "# Use Jina inside Jupyter Notebook"
   ]
  },
  {
   "cell_type": "code",
   "execution_count": null,
   "metadata": {},
   "outputs": [],
   "source": [
    "!pip install -r requirements.txt"
   ]
  },
  {
   "cell_type": "markdown",
   "metadata": {},
   "source": [
    "To build a Flow, use `AsyncFlow` instead of `Flow`"
   ]
  },
  {
   "cell_type": "code",
   "execution_count": null,
   "metadata": {},
   "outputs": [],
   "source": [
    "from jina import AsyncFlow as Flow"
   ]
  },
  {
   "cell_type": "code",
   "execution_count": null,
   "metadata": {},
   "outputs": [],
   "source": [
    "Flow().add(name='step1').add(name='step2')"
   ]
  },
  {
   "cell_type": "markdown",
   "metadata": {},
   "source": [
    "Now let's feed some random data into it and print the output. Notice the `await` below!"
   ]
  },
  {
   "cell_type": "code",
   "execution_count": null,
   "metadata": {},
   "outputs": [],
   "source": [
    "def print_blob(req):\n",
    "    for d in req.docs:\n",
    "        print(d.text)"
   ]
  },
  {
   "cell_type": "code",
   "execution_count": null,
   "metadata": {},
   "outputs": [],
   "source": [
    "from jina import Document\n",
    "\n",
    "with Flow().add() as f:\n",
    "    await f.index([Document(content='hello'), Document(content='world')], output_fn=print_blob)"
   ]
  },
  {
   "cell_type": "markdown",
   "metadata": {},
   "source": [
    "## Build `hello-world` Index in Jupyter Notebook"
   ]
  },
  {
   "cell_type": "markdown",
   "metadata": {},
   "source": [
    "First, let's setup some environment variables for later use:"
   ]
  },
  {
   "cell_type": "code",
   "execution_count": null,
   "metadata": {},
   "outputs": [],
   "source": [
    "from pkg_resources import resource_filename\n",
    "import os\n",
    "for k, v in {'RESOURCE_DIR': resource_filename('jina', 'resources'),\n",
    "             'SHARDS': 4,\n",
    "             'PARALLEL': 4,\n",
    "             'REPLICAS': 4,\n",
    "             'HW_WORKDIR': 'workdir',\n",
    "             'WITH_LOGSERVER': False}.items():\n",
    "    os.environ[k] = str(v)"
   ]
  },
  {
   "cell_type": "markdown",
   "metadata": {},
   "source": [
    "`original/index` stores the Fashion-MNIST training data. If you don't have it, [download it from here](https://github.com/zalandoresearch/fashion-mnist/#get-the-data) and unzip it."
   ]
  },
  {
   "cell_type": "code",
   "execution_count": null,
   "metadata": {
    "scrolled": true
   },
   "outputs": [],
   "source": [
    "from jina.helloworld.helper import load_mnist\n",
    "\n",
    "# do index\n",
    "f = Flow.load_config(resource_filename('jina', '/'.join(('resources', 'helloworld.flow.index.yml'))))\n",
    "\n",
    "with f:\n",
    "    await f.index_ndarray(load_mnist('original/index'), batch_size=1024)"
   ]
  },
  {
   "cell_type": "markdown",
   "metadata": {},
   "source": [
    "It will take 30s you will see the output log is scrolling and all data has been indexed. Under the current directory, you will find a newly created `workdir` with\n",
    " - `chunk_indexer-1`\n",
    " - `chunk_indexer-2`\n",
    " - `chunk_indexer-3`\n",
    " - `chunk_indexer-4`"
   ]
  },
  {
   "cell_type": "code",
   "execution_count": null,
   "metadata": {},
   "outputs": [],
   "source": []
  }
 ],
 "metadata": {
  "kernelspec": {
   "display_name": "Python 3",
   "language": "python",
   "name": "python3"
  },
  "language_info": {
   "codemirror_mode": {
    "name": "ipython",
    "version": 3
   },
   "file_extension": ".py",
   "mimetype": "text/x-python",
   "name": "python",
   "nbconvert_exporter": "python",
   "pygments_lexer": "ipython3",
   "version": "3.8.6"
  }
 },
 "nbformat": 4,
 "nbformat_minor": 4
}

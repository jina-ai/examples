{
 "cells": [
  {
   "cell_type": "code",
   "execution_count": 1,
   "metadata": {},
   "outputs": [],
   "source": [
    "\n",
    "import os\n",
    "import pickle, sys\n",
    "import torch, torchvision\n",
    "from img_text_composition_models import TIRG\n",
    "from datasets import Fashion200k"
   ]
  },
  {
   "cell_type": "code",
   "execution_count": 4,
   "metadata": {},
   "outputs": [],
   "source": [
    "embed_dim = 512\n",
    "dataset_path = '/Users/bo/Downloads/200k/'"
   ]
  },
  {
   "cell_type": "code",
   "execution_count": 5,
   "metadata": {},
   "outputs": [
    {
     "name": "stdout",
     "output_type": "stream",
     "text": [
      "read pants_train_detect_all.txt\n",
      "read dress_train_detect_all.txt\n",
      "read jacket_train_detect_all.txt\n",
      "read skirt_train_detect_all.txt\n",
      "read top_train_detect_all.txt\n",
      "Fashion200k: 172049 images\n",
      "53099 unique cations\n",
      "Modifiable images 106464\n"
     ]
    }
   ],
   "source": [
    "\n",
    "trainset = Fashion200k(path=dataset_path, \n",
    "                       split='train',        \n",
    "                        transform=torchvision.transforms.Compose([\n",
    "                        torchvision.transforms.Resize(224),\n",
    "                        torchvision.transforms.CenterCrop(224),\n",
    "                        torchvision.transforms.ToTensor(),\n",
    "                        torchvision.transforms.Normalize([0.485, 0.456, 0.406],\n",
    "                                                         [0.229, 0.224, 0.225])\n",
    "                    ]))"
   ]
  },
  {
   "cell_type": "code",
   "execution_count": 6,
   "metadata": {},
   "outputs": [],
   "source": [
    "texts = [t for t in trainset.get_all_texts()]"
   ]
  },
  {
   "cell_type": "code",
   "execution_count": 7,
   "metadata": {},
   "outputs": [],
   "source": [
    "model = TIRG(texts, embed_dim)\n",
    "model_sd = torch.load('checkpoint.pth', map_location=torch.device('cpu'))\n",
    "model.load_state_dict(model_sd['model_state_dict'])\n",
    "_ = model.eval()"
   ]
  },
  {
   "cell_type": "code",
   "execution_count": 10,
   "metadata": {},
   "outputs": [],
   "source": [
    "from PIL import Image\n",
    "cur_dir = '/Users/bo/Downloads/work/opensource/examples/multimodal-search-tirg/TirgImageEncoder/tests/'\n",
    "imgs = []\n",
    "\n",
    "def transformer():\n",
    "    return torchvision.transforms.Compose([\n",
    "        torchvision.transforms.Resize(224),\n",
    "        torchvision.transforms.CenterCrop(224),\n",
    "        torchvision.transforms.ToTensor(),\n",
    "        torchvision.transforms.Normalize([0.485, 0.456, 0.406],\n",
    "                                         [0.229, 0.224, 0.225])])\n",
    "\n",
    "t = transformer()\n",
    "for img_name in range(4):\n",
    "    img_path = os.path.join(cur_dir, f'imgs/{img_name}.jpeg')\n",
    "    with open(img_path, 'rb') as f:\n",
    "        img = Image.open(img_path)\n",
    "        img = img.convert('RGB')\n",
    "        img = t(img)\n",
    "        imgs.append(img)"
   ]
  },
  {
   "cell_type": "code",
   "execution_count": 11,
   "metadata": {},
   "outputs": [],
   "source": [
    "imgs = torch.stack(imgs).float()"
   ]
  },
  {
   "cell_type": "code",
   "execution_count": 12,
   "metadata": {},
   "outputs": [],
   "source": [
    "img_feature = model.extract_img_feature(imgs)"
   ]
  },
  {
   "cell_type": "code",
   "execution_count": 13,
   "metadata": {},
   "outputs": [
    {
     "data": {
      "text/plain": [
       "tensor([[-0.0622, -2.4222, -4.3844,  ..., -1.0376,  3.1721, -2.0411],\n",
       "        [-0.1847, -3.2721, -4.3416,  ...,  2.2188,  2.9847, -3.0952],\n",
       "        [ 2.0852, -0.4260, -1.4903,  ..., -0.2095, -0.8310, -5.4079],\n",
       "        [ 0.2074, -0.7349, -3.8016,  ...,  0.2713, -0.0056, -1.9443]],\n",
       "       grad_fn=<AddmmBackward>)"
      ]
     },
     "execution_count": 13,
     "metadata": {},
     "output_type": "execute_result"
    }
   ],
   "source": [
    "img_feature"
   ]
  },
  {
   "cell_type": "code",
   "execution_count": 15,
   "metadata": {},
   "outputs": [],
   "source": [
    "import numpy as np\n",
    "\n",
    "np.save('expected.npy', img_feature.detach().numpy())"
   ]
  },
  {
   "cell_type": "code",
   "execution_count": 17,
   "metadata": {},
   "outputs": [
    {
     "name": "stdout",
     "output_type": "stream",
     "text": [
      "dict_keys(['source_img_id', 'source_img_data', 'source_caption', 'target_img_id', 'target_img_data', 'target_caption', 'mod'])\n"
     ]
    }
   ],
   "source": [
    "for item in trainset:\n",
    "    print(item.keys())\n",
    "    break"
   ]
  },
  {
   "cell_type": "code",
   "execution_count": null,
   "metadata": {},
   "outputs": [],
   "source": []
  }
 ],
 "metadata": {
  "kernelspec": {
   "display_name": "Python 3",
   "language": "python",
   "name": "python3"
  },
  "language_info": {
   "codemirror_mode": {
    "name": "ipython",
    "version": 3
   },
   "file_extension": ".py",
   "mimetype": "text/x-python",
   "name": "python",
   "nbconvert_exporter": "python",
   "pygments_lexer": "ipython3",
   "version": "3.8.6"
  }
 },
 "nbformat": 4,
 "nbformat_minor": 4
}

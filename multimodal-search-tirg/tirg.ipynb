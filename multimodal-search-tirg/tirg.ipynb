{
 "cells": [
  {
   "cell_type": "code",
   "execution_count": 1,
   "metadata": {},
   "outputs": [],
   "source": [
    "import os\n",
    "os.chdir('TirgEncoder')\n",
    "\n",
    "import pickle, sys\n",
    "import torch, torchvision\n",
    "from img_text_composition_models import TIRG\n",
    "from datasets import Fashion200k\n",
    "\n",
    "os.chdir('..')"
   ]
  },
  {
   "cell_type": "code",
   "execution_count": 2,
   "metadata": {},
   "outputs": [],
   "source": [
    "embed_dim = 512\n",
    "dataset_path = 'data-all/fashion-200k/'"
   ]
  },
  {
   "cell_type": "code",
   "execution_count": 3,
   "metadata": {},
   "outputs": [
    {
     "name": "stdout",
     "output_type": "stream",
     "text": [
      "read pants_train_detect_all.txt\n",
      "read dress_train_detect_all.txt\n",
      "read jacket_train_detect_all.txt\n",
      "read skirt_train_detect_all.txt\n",
      "read top_train_detect_all.txt\n",
      "Fashion200k: 172049 images\n",
      "53099 unique cations\n",
      "Modifiable images 106464\n"
     ]
    }
   ],
   "source": [
    "trainset = Fashion200k(path=dataset_path, \n",
    "                       split='train',        \n",
    "                        transform=torchvision.transforms.Compose([\n",
    "                        torchvision.transforms.Resize(224),\n",
    "                        torchvision.transforms.CenterCrop(224),\n",
    "                        torchvision.transforms.ToTensor(),\n",
    "                        torchvision.transforms.Normalize([0.485, 0.456, 0.406],\n",
    "                                                         [0.229, 0.224, 0.225])\n",
    "                    ]))"
   ]
  },
  {
   "cell_type": "code",
   "execution_count": 4,
   "metadata": {},
   "outputs": [],
   "source": [
    "# texts = [t for t in trainset.get_all_texts()]"
   ]
  },
  {
   "cell_type": "code",
   "execution_count": 5,
   "metadata": {},
   "outputs": [],
   "source": [
    "# with open('texts.pkl', 'wb') as fp:\n",
    "#     pickle.dump(texts, fp, protocol=pickle.HIGHEST_PROTOCOL)\n",
    "    \n",
    "# len(texts)"
   ]
  },
  {
   "cell_type": "code",
   "execution_count": 6,
   "metadata": {},
   "outputs": [],
   "source": [
    "with open ('texts.pkl', 'rb') as fp:\n",
    "    texts = pickle.load(fp)"
   ]
  },
  {
   "cell_type": "code",
   "execution_count": 7,
   "metadata": {},
   "outputs": [],
   "source": [
    "model = TIRG(texts, embed_dim)"
   ]
  },
  {
   "cell_type": "code",
   "execution_count": 8,
   "metadata": {},
   "outputs": [],
   "source": [
    "model_sd = torch.load('checkpoint_fashion200k.pth', map_location=torch.device('cpu'))"
   ]
  },
  {
   "cell_type": "code",
   "execution_count": 9,
   "metadata": {},
   "outputs": [],
   "source": [
    "model.load_state_dict(model_sd['model_state_dict'])\n",
    "_ = model.eval()"
   ]
  },
  {
   "cell_type": "code",
   "execution_count": 10,
   "metadata": {},
   "outputs": [],
   "source": [
    "# import json\n",
    "\n",
    "# with open('vocab.json', 'w') as fp:\n",
    "#     json.dump(model.text_model.vocab.wordcount, fp)"
   ]
  },
  {
   "cell_type": "code",
   "execution_count": 11,
   "metadata": {},
   "outputs": [],
   "source": [
    "def get_img(self, idx, raw_img=False):\n",
    "    img_path = self.img_path + self.imgs[idx]['file_path']\n",
    "    with open(img_path, 'rb') as f:\n",
    "        img = PIL.Image.open(f)\n",
    "        img = img.convert('RGB')\n",
    "    if raw_img:\n",
    "        return img\n",
    "    if self.transform:\n",
    "        img = self.transform(img)\n",
    "    return img"
   ]
  },
  {
   "cell_type": "code",
   "execution_count": 12,
   "metadata": {},
   "outputs": [
    {
     "name": "stdout",
     "output_type": "stream",
     "text": [
      "torch.Size([1, 3, 224, 224])\n",
      "torch.Size([1, 512])\n"
     ]
    }
   ],
   "source": [
    "imgs = [trainset.get_img(0)]\n",
    "imgs = torch.stack(imgs).float()\n",
    "print(imgs.shape)\n",
    "img_feature = model.extract_img_feature(imgs)\n",
    "print(img_feature.shape)"
   ]
  },
  {
   "cell_type": "code",
   "execution_count": 13,
   "metadata": {},
   "outputs": [
    {
     "name": "stdout",
     "output_type": "stream",
     "text": [
      "torch.Size([1, 512])\n"
     ]
    }
   ],
   "source": [
    "text_feature = model.extract_text_feature(['hello'])\n",
    "print(text_feature.shape)"
   ]
  },
  {
   "cell_type": "code",
   "execution_count": 14,
   "metadata": {},
   "outputs": [
    {
     "data": {
      "text/plain": [
       "torch.Size([1, 512])"
      ]
     },
     "execution_count": 14,
     "metadata": {},
     "output_type": "execute_result"
    }
   ],
   "source": [
    "img_text_features = model.compose_img_text_features(img_feature, text_feature)\n",
    "img_text_features.shape"
   ]
  },
  {
   "cell_type": "markdown",
   "metadata": {},
   "source": [
    "## Image encoder"
   ]
  },
  {
   "cell_type": "code",
   "execution_count": 15,
   "metadata": {},
   "outputs": [],
   "source": [
    "__copyright__ = \"Copyright (c) 2020 Jina AI Limited. All rights reserved.\"\n",
    "__license__ = \"Apache-2.0\"\n",
    "\n",
    "import os\n",
    "import numpy as np\n",
    "import pickle\n",
    "\n",
    "from jina.executors.decorators import batching, as_ndarray\n",
    "from jina.executors.encoders.frameworks import BaseTorchEncoder\n",
    "from jina.excepts import PretrainedModelFileDoesNotExist\n",
    "\n",
    "from img_text_composition_models import TIRG\n",
    "\n",
    "\n",
    "class TirgEncoder(BaseTorchEncoder):\n",
    "\n",
    "    def __init__(self, model_path: str,\n",
    "                 texts_path: str,\n",
    "                 channel_axis: int = -1, \n",
    "                 *args, **kwargs):\n",
    "        \"\"\"\n",
    "        :param model_path: the path where the model is stored.\n",
    "        \"\"\"\n",
    "        super().__init__(*args, **kwargs)\n",
    "        self.model_path = model_path\n",
    "        self.texts_path = texts_path\n",
    "        self.channel_axis = channel_axis\n",
    "        # axis 0 is the batch\n",
    "        self._default_channel_axis = 1\n",
    "\n",
    "    def post_init(self):\n",
    "        super().post_init()\n",
    "        import torch\n",
    "        if self.model_path and os.path.exists(self.model_path):\n",
    "            with open (self.texts_path, 'rb') as fp:\n",
    "                texts = pickle.load(fp)\n",
    "            self.model = TIRG(texts, 512)\n",
    "            model_sd = torch.load(self.model_path, map_location=torch.device('cpu'))\n",
    "            self.model.load_state_dict(model_sd['model_state_dict'])\n",
    "            self.model.eval()\n",
    "            self.to_device(self.model)\n",
    "        else:\n",
    "            raise PretrainedModelFileDoesNotExist(f'model {self.model_path} does not exist')\n",
    "\n",
    "    def _get_features(self, data):\n",
    "        return self.model.extract_img_feature(data)\n",
    "\n",
    "    @batching\n",
    "    @as_ndarray\n",
    "    def encode(self, data: 'np.ndarray', *args, **kwargs) -> 'np.ndarray':\n",
    "        if self.channel_axis != self._default_channel_axis:\n",
    "            data = np.moveaxis(data, self.channel_axis, self._default_channel_axis)\n",
    "        import torch\n",
    "        _input = torch.from_numpy(data.astype('float32'))\n",
    "        if self.on_gpu:\n",
    "            _input = _input.cuda()\n",
    "        _feature = self._get_features(_input).detach()\n",
    "        if self.on_gpu:\n",
    "            _feature = _feature.cpu()\n",
    "        _feature = _feature.numpy()\n",
    "        return _feature"
   ]
  },
  {
   "cell_type": "code",
   "execution_count": 18,
   "metadata": {},
   "outputs": [
    {
     "name": "stdout",
     "output_type": "stream",
     "text": [
      "    TirgEncoder@9822[I]:\u001b[37mpost initiating, this may take some time...\u001b[0m\n",
      "    TirgEncoder@9822[I]:\u001b[37mpost initiating, this may take some time takes 1 second (1.10s)\u001b[0m\n"
     ]
    }
   ],
   "source": [
    "encoder = TirgEncoder('checkpoint_fashion200k.pth', 'texts.pkl', channel_axis=1)"
   ]
  },
  {
   "cell_type": "code",
   "execution_count": 19,
   "metadata": {},
   "outputs": [
    {
     "data": {
      "text/plain": [
       "(1, 512)"
      ]
     },
     "execution_count": 19,
     "metadata": {},
     "output_type": "execute_result"
    }
   ],
   "source": [
    "encoder.encode(imgs.numpy()).shape"
   ]
  },
  {
   "cell_type": "markdown",
   "metadata": {},
   "source": [
    "## Multimodal"
   ]
  },
  {
   "cell_type": "code",
   "execution_count": 23,
   "metadata": {},
   "outputs": [],
   "source": [
    "__copyright__ = \"Copyright (c) 2020 Jina AI Limited. All rights reserved.\"\n",
    "__license__ = \"Apache-2.0\"\n",
    "\n",
    "import os\n",
    "import sys\n",
    "import numpy as np\n",
    "import pickle\n",
    "from typing import List\n",
    "\n",
    "from jina.executors.decorators import batching, as_ndarray\n",
    "from jina.executors.encoders.multimodal import BaseMultiModalEncoder\n",
    "from jina.excepts import PretrainedModelFileDoesNotExist\n",
    "from jina.executors.devices import TorchDevice\n",
    "\n",
    "# sys.path.append(\".\")\n",
    "from img_text_composition_models import TIRG\n",
    "\n",
    "class TirgMultiModalEncoder(TorchDevice, BaseMultiModalEncoder):\n",
    "\n",
    "    def __init__(self, model_path: str,\n",
    "                 texts_path: str,\n",
    "                 positional_modality: List[str] = ['visual', 'textual'],\n",
    "                 channel_axis: int = -1, \n",
    "                 *args, **kwargs):\n",
    "        \"\"\"\n",
    "        :param model_path: the path where the model is stored.\n",
    "        \"\"\"\n",
    "        super().__init__(*args, **kwargs)\n",
    "        self.model_path = model_path\n",
    "        self.texts_path = texts_path\n",
    "        self.positional_modality = positional_modality\n",
    "        self.channel_axis = channel_axis\n",
    "        # axis 0 is the batch\n",
    "        self._default_channel_axis = 1\n",
    "\n",
    "    def post_init(self):\n",
    "        super().post_init()\n",
    "        import torch\n",
    "        if self.model_path and os.path.exists(self.model_path):\n",
    "            with open (self.texts_path, 'rb') as fp:\n",
    "                texts = pickle.load(fp)\n",
    "            self.model = TIRG(texts, 512)\n",
    "            model_sd = torch.load(self.model_path, map_location=torch.device('cpu'))\n",
    "            self.model.load_state_dict(model_sd['model_state_dict'])\n",
    "            self.model.eval()\n",
    "            self.to_device(self.model)\n",
    "        else:\n",
    "            raise PretrainedModelFileDoesNotExist(f'model {self.model_path} does not exist')\n",
    "\n",
    "    def _get_features(self, data):\n",
    "        visual_data = data[(self.positional_modality.index('visual'))]\n",
    "        if self.channel_axis != self._default_channel_axis:\n",
    "            visual_data = np.moveaxis(visual_data, self.channel_axis, self._default_channel_axis)\n",
    "        textual_data = data[(self.positional_modality.index('textual'))]\n",
    "        \n",
    "        visual_data = torch.stack(visual_data).float()\n",
    "\n",
    "        if self.on_gpu:\n",
    "            visual_data = visual_data.cuda()\n",
    "            textual_data = textual_data.cuda()\n",
    "            \n",
    "        img_features = self.model.extract_img_feature(visual_data)\n",
    "        text_features = self.model.extract_text_feature(textual_data)\n",
    "        \n",
    "        return self.model.compose_img_text_features(img_features, text_features)\n",
    "\n",
    "    @batching\n",
    "    @as_ndarray\n",
    "    def encode(self, *data: 'np.ndarray', **kwargs) -> 'np.ndarray':\n",
    "        import torch\n",
    "        feature = self._get_features(*data).detach()\n",
    "        if self.on_gpu:\n",
    "            feature = feature.cpu()\n",
    "        feature = feature.numpy()\n",
    "        return feature"
   ]
  },
  {
   "cell_type": "code",
   "execution_count": null,
   "metadata": {},
   "outputs": [],
   "source": [
    "mutimodal_encoder = TirgMultiModalEncoder(\n",
    "    'checkpoint_fashion200k.pth',\n",
    "    'texts.pkl',\n",
    "    positional_modality = ['visual', 'textual'],\n",
    "    channel_axis=1\n",
    ")"
   ]
  },
  {
   "cell_type": "code",
   "execution_count": null,
   "metadata": {},
   "outputs": [],
   "source": [
    "data = []\n",
    "data.append([trainset.get_img(0)]) # visual at position 0\n",
    "data.append([texts[0]]) # textual at position 1"
   ]
  },
  {
   "cell_type": "code",
   "execution_count": null,
   "metadata": {},
   "outputs": [],
   "source": [
    "encoded_multimodal = mutimodal_encoder.encode(data)\n",
    "print(encoded_multimodal.shape)"
   ]
  },
  {
   "cell_type": "markdown",
   "metadata": {},
   "source": [
    "### Test TIRG encoder and TIRG Multimodal encoder"
   ]
  },
  {
   "cell_type": "code",
   "execution_count": null,
   "metadata": {},
   "outputs": [],
   "source": [
    "encoder = TirgEncoder('checkpoint_fashion200k.pth', 'texts.pkl', channel_axis=1)\n",
    "for i in range(10):\n",
    "    print(f\"testing image encoder with img {i}\")\n",
    "    img = [trainset.get_img(i)]\n",
    "    img = torch.stack(img).float()\n",
    "    # extract feature via jina encoder\n",
    "    encoded = encoder.encode(img.numpy())\n",
    "    # extract feature from model directly\n",
    "    extracted =  model.extract_img_feature(img).cpu().detach().numpy()\n",
    "    assert encoded.shape == extracted.shape\n",
    "    assert encoded.all() == extracted.all()\n",
    "\n",
    "mutimodal_encoder = TirgMultiModalEncoder('checkpoint_fashion200k.pth','texts.pkl',positional_modality = ['visual', 'textual'], channel_axis=1)\n",
    "for i in range(10):\n",
    "    print(f\"testing multimodal encoder with img {i}\")\n",
    "    # extract feature via jina encoder\n",
    "    data = []\n",
    "    data.append([trainset.get_img(i)]) # visual at position 0\n",
    "    data.append([texts[i]]) # textual at position 1\n",
    "    encoded = mutimodal_encoder.encode(data)\n",
    "    # extract image text feature\n",
    "    text_feature = model.extract_text_feature([texts[i]])\n",
    "    img = [trainset.get_img(i)]\n",
    "    img = torch.stack(img).float()\n",
    "    img_feature =  model.extract_img_feature(img)\n",
    "    extracted = model.compose_img_text_features(img_feature, text_feature).cpu().detach().numpy()\n",
    "    assert encoded.shape == extracted.shape\n",
    "    assert encoded.all() == extracted.all()"
   ]
  }
 ],
 "metadata": {
  "kernelspec": {
   "display_name": "Python 3",
   "language": "python",
   "name": "python3"
  },
  "language_info": {
   "codemirror_mode": {
    "name": "ipython",
    "version": 3
   },
   "file_extension": ".py",
   "mimetype": "text/x-python",
   "name": "python",
   "nbconvert_exporter": "python",
   "pygments_lexer": "ipython3",
   "version": "3.8.5"
  }
 },
 "nbformat": 4,
 "nbformat_minor": 4
}
